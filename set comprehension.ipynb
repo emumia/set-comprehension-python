{
 "cells": [
  {
   "cell_type": "code",
   "execution_count": 1,
   "id": "b4eead6a",
   "metadata": {},
   "outputs": [
    {
     "name": "stdout",
     "output_type": "stream",
     "text": [
      "{1, 2, 3, 4, 5, 6, 7, 8, 9, 10, 11, 12, 13, 14, 15, 16, 17, 18, 19, 20}\n",
      "<class 'set'>\n"
     ]
    }
   ],
   "source": [
    "# Set Comprehension\n",
    "# Without Set Comprehension\n",
    "set1 ={0,1,2,3,4,5,6,7,8,9,10,11,12,13,14,15,16,17,18,19}\n",
    "new_set1 =set()\n",
    "for i in set1:\n",
    "    new_set1.add(i+1)\n",
    "print(new_set1)\n",
    "print(type(new_set1))\n",
    "\n"
   ]
  },
  {
   "cell_type": "code",
   "execution_count": 2,
   "id": "7aa18b8c",
   "metadata": {},
   "outputs": [
    {
     "name": "stdout",
     "output_type": "stream",
     "text": [
      "{1, 2, 3, 4, 5, 6, 7, 8, 9, 10, 11, 12, 13, 14, 15, 16, 17, 18, 19, 20}\n",
      "<class 'set'>\n",
      "\n"
     ]
    }
   ],
   "source": [
    "# With Set Comprehension\n",
    "set2 ={0,1,2,3,4,5,6,7,8,9,10,11,12,13,14,15,16,17,18,19}\n",
    "new_set2 ={i+1 for i in set2}\n",
    "print(new_set2)\n",
    "print(type(new_set2))\n",
    "print()\n",
    "\n"
   ]
  },
  {
   "cell_type": "code",
   "execution_count": 3,
   "id": "499c8e55",
   "metadata": {},
   "outputs": [
    {
     "name": "stdout",
     "output_type": "stream",
     "text": [
      "{1, 2, 3, 4, 5, 6, 7, 8, 9, 10, 11, 12, 13, 14, 15, 16, 17, 18, 19, 20}\n",
      "<class 'set'>\n"
     ]
    }
   ],
   "source": [
    "# Same as above in different way\n",
    "\n",
    "# Without Set Comprehension\n",
    "set1 =set()\n",
    "for i in range(20):\n",
    "    set1.add(i+1)\n",
    "print(set1)\n",
    "print(type(set1))\n",
    "\n"
   ]
  },
  {
   "cell_type": "code",
   "execution_count": 4,
   "id": "a7591d64",
   "metadata": {},
   "outputs": [
    {
     "name": "stdout",
     "output_type": "stream",
     "text": [
      "{1, 2, 3, 4, 5, 6, 7, 8, 9, 10, 11, 12, 13, 14, 15, 16, 17, 18, 19, 20}\n",
      "<class 'set'>\n"
     ]
    }
   ],
   "source": [
    "# With Set Comprehension\n",
    "set2 ={i+1 for i in range(20)}\n",
    "print(set2)\n",
    "print(type(set2))"
   ]
  },
  {
   "cell_type": "markdown",
   "id": "95ac43dd",
   "metadata": {},
   "source": [
    "# conditional"
   ]
  },
  {
   "cell_type": "code",
   "execution_count": 5,
   "id": "3ad3233f",
   "metadata": {},
   "outputs": [
    {
     "name": "stdout",
     "output_type": "stream",
     "text": [
      "{0, 2, 4, 6, 8, 10, 12, 14, 16, 18}\n",
      "<class 'set'>\n"
     ]
    }
   ],
   "source": [
    "# Set Comprehension\n",
    "# Without Set Comprehension (Conditional)\n",
    "set1 =set()\n",
    "for i in range(20):\n",
    "    if(i%2==0):\n",
    "        set1.add(i)\n",
    "print(set1)\n",
    "print(type(set1))\n"
   ]
  },
  {
   "cell_type": "code",
   "execution_count": 6,
   "id": "c6806e28",
   "metadata": {},
   "outputs": [
    {
     "name": "stdout",
     "output_type": "stream",
     "text": [
      "{0, 2, 4, 6, 8, 10, 12, 14, 16, 18}\n",
      "<class 'set'>\n"
     ]
    }
   ],
   "source": [
    "# With Set Comprehension (Conditional)\n",
    "set2 ={i for i in range(20) if i%2==0}\n",
    "print(set2)\n",
    "print(type(set2))"
   ]
  },
  {
   "cell_type": "markdown",
   "id": "952a6c59",
   "metadata": {},
   "source": [
    "# Set Comprehension ( nested Conditional)\n"
   ]
  },
  {
   "cell_type": "code",
   "execution_count": 7,
   "id": "f21417aa",
   "metadata": {},
   "outputs": [
    {
     "name": "stdout",
     "output_type": "stream",
     "text": [
      "{0, 18, 12, 6}\n",
      "<class 'set'>\n"
     ]
    }
   ],
   "source": [
    "# Without Set Comprehension (Conditional)\n",
    "set1 =set()\n",
    "for i in range(20):\n",
    "    if(i%2==0):\n",
    "        if(i%3==0):\n",
    "            set1.add(i)\n",
    "print(set1)\n",
    "print(type(set1))\n"
   ]
  },
  {
   "cell_type": "code",
   "execution_count": 8,
   "id": "fdbf80d8",
   "metadata": {},
   "outputs": [
    {
     "name": "stdout",
     "output_type": "stream",
     "text": [
      "{0, 18, 12, 6}\n",
      "<class 'set'>\n"
     ]
    }
   ],
   "source": [
    "# With Set Comprehension (Conditional)\n",
    "set2 ={i for i in range(20) if i%2==0 if i%3==0}\n",
    "print(set2)\n",
    "print(type(set2))"
   ]
  },
  {
   "cell_type": "markdown",
   "id": "f2a2b33c",
   "metadata": {},
   "source": [
    "# Set Comprehension(if else)"
   ]
  },
  {
   "cell_type": "code",
   "execution_count": 9,
   "id": "2921a339",
   "metadata": {},
   "outputs": [
    {
     "name": "stdout",
     "output_type": "stream",
     "text": [
      "{0, 2, 4, 6, 1000, 5000, 8, 9000, 7000, 3000}\n",
      "<class 'set'>\n"
     ]
    }
   ],
   "source": [
    "# Without Set Comprehension \n",
    "set1 =set()\n",
    "for i in range(10):\n",
    "    if(i%2==0):\n",
    "        set1.add(i)\n",
    "    else:\n",
    "        set1.add(i*1000)\n",
    "print(set1)\n",
    "print(type(set1))\n",
    "\n"
   ]
  },
  {
   "cell_type": "code",
   "execution_count": 10,
   "id": "994487d4",
   "metadata": {},
   "outputs": [
    {
     "name": "stdout",
     "output_type": "stream",
     "text": [
      "{0, 2, 4, 6, 1000, 5000, 8, 9000, 7000, 3000}\n",
      "<class 'set'>\n"
     ]
    }
   ],
   "source": [
    "# With Set Comprehension (if else)\n",
    "set2 ={i if i%2==0 else i*1000 for i in range(10)}\n",
    "print(set2)\n",
    "print(type(set2))"
   ]
  },
  {
   "cell_type": "markdown",
   "id": "47e189cd",
   "metadata": {},
   "source": [
    "# Nested Set Comprehension\n"
   ]
  },
  {
   "cell_type": "code",
   "execution_count": 11,
   "id": "a2218db7",
   "metadata": {},
   "outputs": [
    {
     "name": "stdout",
     "output_type": "stream",
     "text": [
      "{(7, 4), (6, 5), (6, 4), (7, 6), (6, 6), (7, 5)}\n",
      "<class 'set'>\n"
     ]
    }
   ],
   "source": [
    "# Nested Set Comprehension, asha kori r explain kora lagbe na jehetu list comprehensiona  apnara beparta clear hoye giyechen\n",
    "st ={(i, j) for j in range(4,7) for i in range(6,8)}\n",
    "print(st)\n",
    "print(type(st))\n"
   ]
  },
  {
   "cell_type": "code",
   "execution_count": null,
   "id": "bfccd396",
   "metadata": {},
   "outputs": [],
   "source": []
  }
 ],
 "metadata": {
  "kernelspec": {
   "display_name": "Python 3",
   "language": "python",
   "name": "python3"
  },
  "language_info": {
   "codemirror_mode": {
    "name": "ipython",
    "version": 3
   },
   "file_extension": ".py",
   "mimetype": "text/x-python",
   "name": "python",
   "nbconvert_exporter": "python",
   "pygments_lexer": "ipython3",
   "version": "3.8.8"
  }
 },
 "nbformat": 4,
 "nbformat_minor": 5
}
